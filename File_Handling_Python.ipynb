{
 "cells": [
  {
   "cell_type": "markdown",
   "metadata": {},
   "source": [
    "# Python File Handling Fundamentals "
   ]
  },
  {
   "cell_type": "code",
   "execution_count": 42,
   "metadata": {},
   "outputs": [
    {
     "name": "stdout",
     "output_type": "stream",
     "text": [
      "Hello World!\n",
      "Myself Ashwin S\n",
      "Here we gonna deal with File Handing in PYTHON.\n",
      "Let's get started!This Line was appended by Python.\n"
     ]
    }
   ],
   "source": [
    "#Reading an existing file\n",
    "file = open('File1.txt', 'r')#Path should be given if file is not in HOME diretory\n",
    "print(file.read()) #Reads entire File"
   ]
  },
  {
   "cell_type": "code",
   "execution_count": 43,
   "metadata": {},
   "outputs": [
    {
     "name": "stdout",
     "output_type": "stream",
     "text": [
      "Hello\n"
     ]
    }
   ],
   "source": [
    "file = open('File1.txt', 'r')\n",
    "print(file.read(5)) #Reads certain no of characters in the file"
   ]
  },
  {
   "cell_type": "code",
   "execution_count": 44,
   "metadata": {},
   "outputs": [],
   "source": [
    "#Creating a new file\n",
    "file2 = open('File2.txt', 'w')\n",
    "file2.write(\"Here we learn how write in a File!\\nHappy working with Python\")\n",
    "file2.close() #Closing a file after certain operation is mandatory/most advisible"
   ]
  },
  {
   "cell_type": "code",
   "execution_count": 45,
   "metadata": {},
   "outputs": [
    {
     "name": "stdout",
     "output_type": "stream",
     "text": [
      "Here we learn how write in a File!\n",
      "Happy working with Python\n"
     ]
    }
   ],
   "source": [
    "#Viewing File2 created by Python\n",
    "file2 = open('File2.txt','r')\n",
    "print(file2.read())\n",
    "file2.close()"
   ]
  },
  {
   "cell_type": "code",
   "execution_count": 46,
   "metadata": {},
   "outputs": [
    {
     "name": "stdout",
     "output_type": "stream",
     "text": [
      "Hello World!\n",
      "\n"
     ]
    }
   ],
   "source": [
    "#Using 'with' for file handing is highly recommended as it closes/terminates the object once required operation performed\n",
    "with open('file1.txt', 'r') as fp:\n",
    "    print(fp.readline())"
   ]
  },
  {
   "cell_type": "code",
   "execution_count": 47,
   "metadata": {},
   "outputs": [
    {
     "name": "stdout",
     "output_type": "stream",
     "text": [
      "Hello World!\n",
      "\n",
      "Myself Ashwin S\n",
      "\n",
      "Here we gonna deal with File Handing in PYTHON.\n",
      "\n",
      "Let's get started!This Line was appended by Python.\n"
     ]
    }
   ],
   "source": [
    "#Printing Line by Line\n",
    "with open('file1.txt', 'r') as fp:\n",
    "    file_li = fp.readlines()\n",
    "    \n",
    "    for i in file_li:\n",
    "        print(i)"
   ]
  },
  {
   "cell_type": "code",
   "execution_count": 48,
   "metadata": {},
   "outputs": [
    {
     "name": "stdout",
     "output_type": "stream",
     "text": [
      "Hello World!\n",
      "Myself Ashwin S\n",
      "Here we gonna deal with File Handing in PYTHON.\n",
      "Let's get started!This Line was appended by Python.\n",
      "This Line was appended by Python\n"
     ]
    }
   ],
   "source": [
    "#Appending a line in existing file\n",
    "\n",
    "with open('file1.txt', 'a') as fp:\n",
    "    fp.write('\\nThis Line was appended by Python')\n",
    "    \n",
    "with open('file1.txt', 'r') as fp:\n",
    "    print(fp.read())"
   ]
  },
  {
   "cell_type": "code",
   "execution_count": 29,
   "metadata": {},
   "outputs": [
    {
     "name": "stdout",
     "output_type": "stream",
     "text": [
      "Hello\n",
      "World!\n",
      "Myself\n",
      "Ashwin\n",
      "S\n",
      "Here\n",
      "we\n",
      "gonna\n",
      "deal\n",
      "with\n",
      "File\n",
      "Handing\n",
      "in\n",
      "PYTHON.\n",
      "Let's\n",
      "get\n",
      "started!This\n",
      "Line\n",
      "was\n",
      "appended\n",
      "by\n",
      "Python.\n",
      "This\n",
      "Line\n",
      "was\n",
      "appended\n",
      "by\n",
      "Python\n"
     ]
    }
   ],
   "source": [
    "#Printing each word of the file in a new line.\n",
    "\n",
    "with open('file1.txt', 'r') as fp:\n",
    "    lines = fp.readlines()\n",
    "    for i in lines:\n",
    "        words = i.split()\n",
    "        for j in words:\n",
    "            print(j)"
   ]
  },
  {
   "cell_type": "code",
   "execution_count": null,
   "metadata": {},
   "outputs": [],
   "source": [
    "#Read data from file1.txt to make modification and output/write in file3.txt"
   ]
  },
  {
   "cell_type": "code",
   "execution_count": 62,
   "metadata": {},
   "outputs": [],
   "source": [
    "with open('file1.txt', 'r') as fp:\n",
    "    data = fp.read()\n",
    "    data = data.replace('Ashwin', 'Ashwin S')"
   ]
  },
  {
   "cell_type": "code",
   "execution_count": 63,
   "metadata": {},
   "outputs": [],
   "source": [
    "with open('file3.txt', 'w') as fp:\n",
    "    fp.write(data)"
   ]
  },
  {
   "cell_type": "code",
   "execution_count": 64,
   "metadata": {},
   "outputs": [
    {
     "name": "stdout",
     "output_type": "stream",
     "text": [
      "Hello World!\n",
      "Myself Ashwin S\n",
      "Here we gonna deal with File Handing in PYTHON.\n",
      "Let's get started!This Line was appended by Python.\n",
      "This Line was appended by Python\n"
     ]
    }
   ],
   "source": [
    "with open('file3.txt', 'r') as fp:\n",
    "    print(fp.read())"
   ]
  }
 ],
 "metadata": {
  "kernelspec": {
   "display_name": "Python 3",
   "language": "python",
   "name": "python3"
  },
  "language_info": {
   "codemirror_mode": {
    "name": "ipython",
    "version": 3
   },
   "file_extension": ".py",
   "mimetype": "text/x-python",
   "name": "python",
   "nbconvert_exporter": "python",
   "pygments_lexer": "ipython3",
   "version": "3.7.1"
  }
 },
 "nbformat": 4,
 "nbformat_minor": 2
}
